{
 "cells": [
  {
   "cell_type": "code",
   "execution_count": 1,
   "id": "44238bcc-63db-4728-bba9-611073d3dbe2",
   "metadata": {},
   "outputs": [
    {
     "name": "stderr",
     "output_type": "stream",
     "text": [
      "2024-06-15 15:06:07.760948: I external/local_tsl/tsl/cuda/cudart_stub.cc:32] Could not find cuda drivers on your machine, GPU will not be used.\n",
      "2024-06-15 15:06:07.766918: I external/local_tsl/tsl/cuda/cudart_stub.cc:32] Could not find cuda drivers on your machine, GPU will not be used.\n",
      "2024-06-15 15:06:07.818565: I tensorflow/core/platform/cpu_feature_guard.cc:210] This TensorFlow binary is optimized to use available CPU instructions in performance-critical operations.\n",
      "To enable the following instructions: AVX2 FMA, in other operations, rebuild TensorFlow with the appropriate compiler flags.\n",
      "2024-06-15 15:06:09.511532: W tensorflow/compiler/tf2tensorrt/utils/py_utils.cc:38] TF-TRT Warning: Could not find TensorRT\n",
      "/workspace/.pyenv_mirror/user/current/lib/python3.12/site-packages/keras/src/layers/convolutional/base_conv.py:107: UserWarning: Do not pass an `input_shape`/`input_dim` argument to a layer. When using Sequential models, prefer using an `Input(shape)` object as the first layer in the model instead.\n",
      "  super().__init__(activity_regularizer=activity_regularizer, **kwargs)\n",
      "WARNING:absl:Compiled the loaded model, but the compiled metrics have yet to be built. `model.compile_metrics` will be empty until you train or evaluate the model.\n",
      "WARNING:absl:Error in loading the saved optimizer state. As a result, your model is starting with a freshly initialized optimizer.\n",
      "2024-06-15 15:06:12.813 \n",
      "  \u001b[33m\u001b[1mWarning:\u001b[0m to view this Streamlit app on a browser, run it with the following\n",
      "  command:\n",
      "\n",
      "    streamlit run /home/gitpod/.pyenv/versions/3.12.3/lib/python3.12/site-packages/ipykernel_launcher.py [ARGUMENTS]\n",
      "2024-06-15 15:06:12.815 Session state does not function when running a script without `streamlit run`\n"
     ]
    }
   ],
   "source": [
    "# Import necessary libraries\n",
    "import streamlit as st\n",
    "from PIL import Image\n",
    "import numpy as np\n",
    "import tensorflow as tf\n",
    "import matplotlib.pyplot as plt\n",
    "import seaborn as sns\n",
    "\n",
    "# Load the pre-trained model\n",
    "model = tf.keras.models.load_model('model.h5')\n",
    "\n",
    "# Function to preprocess the uploaded image\n",
    "def preprocess_image(image):\n",
    "    image = image.resize((128, 128))  # Resize to the input size required by the model\n",
    "    image = np.array(image) / 255.0  # Normalize to [0, 1]\n",
    "    image = np.expand_dims(image, axis=0)  # Add batch dimension\n",
    "    return image\n",
    "\n",
    "# Function to make predictions\n",
    "def predict(image):\n",
    "    processed_image = preprocess_image(image)\n",
    "    prediction = model.predict(processed_image)\n",
    "    label = 'Healthy' if prediction[0][0] < 0.5 else 'Powdery Mildew'\n",
    "    return label\n",
    "\n",
    "# Streamlit app layout\n",
    "st.title('Cherry Leaf Mildew Detection')\n",
    "\n",
    "# Sidebar menu\n",
    "st.sidebar.title('Navigation')\n",
    "options = st.sidebar.radio('Go to:', ['Home', 'Hypotheses', 'Data Collection', 'Data Visualization'])\n",
    "\n",
    "# Home Section\n",
    "if options == 'Home':\n",
    "    st.write('Upload an image of a cherry leaf to detect if it is healthy or has powdery mildew.')\n",
    "\n",
    "    # Image upload section\n",
    "    uploaded_file = st.file_uploader(\"Choose an image...\", type=[\"jpg\", \"png\", \"jpeg\"])\n",
    "    if uploaded_file is not None:\n",
    "        try:\n",
    "            image = Image.open(uploaded_file)\n",
    "            st.image(image, caption='Uploaded Image', use_column_width=True)\n",
    "            st.write(\"\")\n",
    "            st.write(\"Classifying...\")\n",
    "\n",
    "            # Predict and display the result\n",
    "            label = predict(image)\n",
    "            st.write(f'The uploaded cherry leaf is: **{label}**')\n",
    "\n",
    "        except Exception as e:\n",
    "            st.write(\"Error: Unable to process uploaded file. Please try again.\")\n",
    "\n",
    "# Hypotheses Section\n",
    "elif options == 'Hypotheses':\n",
    "    st.header('Hypotheses')\n",
    "    st.write(\"\"\"\n",
    "    In this section, we outline the key hypotheses related to the detection of powdery mildew on cherry leaves:\n",
    "\n",
    "    1. **Image Quality**: High-quality images with clear visibility of the leaf surface will yield more accurate predictions.\n",
    "    2. **Leaf Texture and Color**: The model distinguishes between healthy leaves and those affected by mildew based on texture and color differences.\n",
    "    3. **Lighting Conditions**: Images taken under uniform lighting conditions improve the model's ability to correctly classify the health status of the leaf.\n",
    "    4. **Environmental Factors**: The appearance of powdery mildew might vary under different environmental conditions, affecting the model's accuracy.\n",
    "    5. **Model Transferability**: Evaluate the model's performance on leaves from different regions or varieties to assess its transferability.\n",
    "    \"\"\")\n",
    "\n",
    "# Data Collection Section\n",
    "elif options == 'Data Collection':\n",
    "    st.header('Data Collection')\n",
    "    st.write(\"\"\"\n",
    "    The dataset used for training the model consisted of images of cherry leaves sourced from [describe your data source]. Each image was preprocessed by resizing it to 128x128 pixels and normalizing pixel values to the range `[0, 1]`. The dataset was split into training and validation sets to assess model performance.\n",
    "    \"\"\")\n",
    "\n",
    "# Data Visualization Section\n",
    "elif options == 'Data Visualization':\n",
    "    st.header('Data Visualization')\n",
    "    st.write(\"\"\"\n",
    "    Visualize key aspects of the dataset, such as the distribution of healthy vs. powdery mildew affected leaves.\n",
    "    \"\"\")\n",
    "    # Example data visualization\n",
    "    labels = ['Healthy', 'Powdery Mildew']\n",
    "    counts = [1000, 500]  # Replace with actual counts\n",
    "    plt.figure(figsize=(8, 5))\n",
    "    sns.barplot(x=labels, y=counts)\n",
    "    plt.title('Distribution of Cherry Leaf Images')\n",
    "    plt.xlabel('Class')\n",
    "    plt.ylabel('Count')\n",
    "    st.pyplot()"
   ]
  },
  {
   "cell_type": "code",
   "execution_count": 2,
   "id": "f836034f-e914-4e56-847a-53407e5adfde",
   "metadata": {},
   "outputs": [
    {
     "name": "stdout",
     "output_type": "stream",
     "text": [
      "Requirement already satisfied: matplotlib in /home/gitpod/.pyenv/versions/3.12.3/lib/python3.12/site-packages (3.9.0)\n",
      "Requirement already satisfied: contourpy>=1.0.1 in /home/gitpod/.pyenv/versions/3.12.3/lib/python3.12/site-packages (from matplotlib) (1.2.1)\n",
      "Requirement already satisfied: cycler>=0.10 in /home/gitpod/.pyenv/versions/3.12.3/lib/python3.12/site-packages (from matplotlib) (0.12.1)\n",
      "Requirement already satisfied: fonttools>=4.22.0 in /home/gitpod/.pyenv/versions/3.12.3/lib/python3.12/site-packages (from matplotlib) (4.53.0)\n",
      "Requirement already satisfied: kiwisolver>=1.3.1 in /home/gitpod/.pyenv/versions/3.12.3/lib/python3.12/site-packages (from matplotlib) (1.4.5)\n",
      "Requirement already satisfied: numpy>=1.23 in /workspace/.pyenv_mirror/user/current/lib/python3.12/site-packages (from matplotlib) (1.26.4)\n",
      "Requirement already satisfied: packaging>=20.0 in /home/gitpod/.pyenv/versions/3.12.3/lib/python3.12/site-packages (from matplotlib) (24.0)\n",
      "Requirement already satisfied: pillow>=8 in /workspace/.pyenv_mirror/user/current/lib/python3.12/site-packages (from matplotlib) (10.3.0)\n",
      "Requirement already satisfied: pyparsing>=2.3.1 in /home/gitpod/.pyenv/versions/3.12.3/lib/python3.12/site-packages (from matplotlib) (3.1.2)\n",
      "Requirement already satisfied: python-dateutil>=2.7 in /home/gitpod/.pyenv/versions/3.12.3/lib/python3.12/site-packages (from matplotlib) (2.9.0.post0)\n",
      "Requirement already satisfied: six>=1.5 in /home/gitpod/.pyenv/versions/3.12.3/lib/python3.12/site-packages (from python-dateutil>=2.7->matplotlib) (1.16.0)\n",
      "Note: you may need to restart the kernel to use updated packages.\n"
     ]
    }
   ],
   "source": [
    "pip install matplotlib"
   ]
  },
  {
   "cell_type": "code",
   "execution_count": 3,
   "id": "99de96ee-31b7-4725-9c5b-0d3264bc095d",
   "metadata": {},
   "outputs": [
    {
     "name": "stdout",
     "output_type": "stream",
     "text": [
      "Requirement already satisfied: seaborn in /home/gitpod/.pyenv/versions/3.12.3/lib/python3.12/site-packages (0.13.2)\n",
      "Requirement already satisfied: numpy!=1.24.0,>=1.20 in /workspace/.pyenv_mirror/user/current/lib/python3.12/site-packages (from seaborn) (1.26.4)\n",
      "Requirement already satisfied: pandas>=1.2 in /workspace/.pyenv_mirror/user/current/lib/python3.12/site-packages (from seaborn) (2.2.2)\n",
      "Requirement already satisfied: matplotlib!=3.6.1,>=3.4 in /home/gitpod/.pyenv/versions/3.12.3/lib/python3.12/site-packages (from seaborn) (3.9.0)\n",
      "Requirement already satisfied: contourpy>=1.0.1 in /home/gitpod/.pyenv/versions/3.12.3/lib/python3.12/site-packages (from matplotlib!=3.6.1,>=3.4->seaborn) (1.2.1)\n",
      "Requirement already satisfied: cycler>=0.10 in /home/gitpod/.pyenv/versions/3.12.3/lib/python3.12/site-packages (from matplotlib!=3.6.1,>=3.4->seaborn) (0.12.1)\n",
      "Requirement already satisfied: fonttools>=4.22.0 in /home/gitpod/.pyenv/versions/3.12.3/lib/python3.12/site-packages (from matplotlib!=3.6.1,>=3.4->seaborn) (4.53.0)\n",
      "Requirement already satisfied: kiwisolver>=1.3.1 in /home/gitpod/.pyenv/versions/3.12.3/lib/python3.12/site-packages (from matplotlib!=3.6.1,>=3.4->seaborn) (1.4.5)\n",
      "Requirement already satisfied: packaging>=20.0 in /home/gitpod/.pyenv/versions/3.12.3/lib/python3.12/site-packages (from matplotlib!=3.6.1,>=3.4->seaborn) (24.0)\n",
      "Requirement already satisfied: pillow>=8 in /workspace/.pyenv_mirror/user/current/lib/python3.12/site-packages (from matplotlib!=3.6.1,>=3.4->seaborn) (10.3.0)\n",
      "Requirement already satisfied: pyparsing>=2.3.1 in /home/gitpod/.pyenv/versions/3.12.3/lib/python3.12/site-packages (from matplotlib!=3.6.1,>=3.4->seaborn) (3.1.2)\n",
      "Requirement already satisfied: python-dateutil>=2.7 in /home/gitpod/.pyenv/versions/3.12.3/lib/python3.12/site-packages (from matplotlib!=3.6.1,>=3.4->seaborn) (2.9.0.post0)\n",
      "Requirement already satisfied: pytz>=2020.1 in /workspace/.pyenv_mirror/user/current/lib/python3.12/site-packages (from pandas>=1.2->seaborn) (2024.1)\n",
      "Requirement already satisfied: tzdata>=2022.7 in /workspace/.pyenv_mirror/user/current/lib/python3.12/site-packages (from pandas>=1.2->seaborn) (2024.1)\n",
      "Requirement already satisfied: six>=1.5 in /home/gitpod/.pyenv/versions/3.12.3/lib/python3.12/site-packages (from python-dateutil>=2.7->matplotlib!=3.6.1,>=3.4->seaborn) (1.16.0)\n",
      "Note: you may need to restart the kernel to use updated packages.\n"
     ]
    }
   ],
   "source": [
    "pip install seaborn\n"
   ]
  },
  {
   "cell_type": "code",
   "execution_count": null,
   "id": "bf28dbc1-a245-48da-b061-a8a35b7d4c02",
   "metadata": {},
   "outputs": [],
   "source": []
  }
 ],
 "metadata": {
  "kernelspec": {
   "display_name": "Python 3 (ipykernel)",
   "language": "python",
   "name": "python3"
  },
  "language_info": {
   "codemirror_mode": {
    "name": "ipython",
    "version": 3
   },
   "file_extension": ".py",
   "mimetype": "text/x-python",
   "name": "python",
   "nbconvert_exporter": "python",
   "pygments_lexer": "ipython3",
   "version": "3.12.3"
  }
 },
 "nbformat": 4,
 "nbformat_minor": 5
}
