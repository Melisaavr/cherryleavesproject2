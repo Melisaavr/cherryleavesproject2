{
 "cells": [
  {
   "cell_type": "code",
   "execution_count": 1,
   "id": "6e759282-bcd8-4971-8fa5-2abc88233271",
   "metadata": {},
   "outputs": [
    {
     "name": "stderr",
     "output_type": "stream",
     "text": [
      "2024-06-15 14:51:44.486776: I external/local_tsl/tsl/cuda/cudart_stub.cc:32] Could not find cuda drivers on your machine, GPU will not be used.\n",
      "2024-06-15 14:51:44.490875: I external/local_tsl/tsl/cuda/cudart_stub.cc:32] Could not find cuda drivers on your machine, GPU will not be used.\n",
      "2024-06-15 14:51:44.546847: I tensorflow/core/platform/cpu_feature_guard.cc:210] This TensorFlow binary is optimized to use available CPU instructions in performance-critical operations.\n",
      "To enable the following instructions: AVX2 FMA, in other operations, rebuild TensorFlow with the appropriate compiler flags.\n",
      "2024-06-15 14:51:45.732854: W tensorflow/compiler/tf2tensorrt/utils/py_utils.cc:38] TF-TRT Warning: Could not find TensorRT\n",
      "/workspace/.pyenv_mirror/user/current/lib/python3.12/site-packages/keras/src/layers/convolutional/base_conv.py:107: UserWarning: Do not pass an `input_shape`/`input_dim` argument to a layer. When using Sequential models, prefer using an `Input(shape)` object as the first layer in the model instead.\n",
      "  super().__init__(activity_regularizer=activity_regularizer, **kwargs)\n",
      "WARNING:absl:Compiled the loaded model, but the compiled metrics have yet to be built. `model.compile_metrics` will be empty until you train or evaluate the model.\n",
      "WARNING:absl:Error in loading the saved optimizer state. As a result, your model is starting with a freshly initialized optimizer.\n",
      "2024-06-15 14:51:47.950 \n",
      "  \u001b[33m\u001b[1mWarning:\u001b[0m to view this Streamlit app on a browser, run it with the following\n",
      "  command:\n",
      "\n",
      "    streamlit run /home/gitpod/.pyenv/versions/3.12.3/lib/python3.12/site-packages/ipykernel_launcher.py [ARGUMENTS]\n",
      "2024-06-15 14:51:47.951 Session state does not function when running a script without `streamlit run`\n"
     ]
    }
   ],
   "source": [
    "import streamlit as st\n",
    "from PIL import Image\n",
    "import numpy as np\n",
    "import tensorflow as tf\n",
    "\n",
    "# Load the pre-trained model\n",
    "model = tf.keras.models.load_model('model.h5')\n",
    "\n",
    "# Function to preprocess the uploaded image\n",
    "def preprocess_image(image):\n",
    "    image = image.resize((128, 128))  # Resize to the input size required by the model\n",
    "    image = np.expand_dims(image, axis=0)  # Add batch dimension\n",
    "    return image\n",
    "\n",
    "# Function to make predictions\n",
    "def predict(image):\n",
    "    processed_image = preprocess_image(image)\n",
    "    prediction = model.predict(processed_image)\n",
    "    return 'Healthy' if prediction < 0.5 else 'Powdery Mildew'\n",
    "\n",
    "# Streamlit app layout\n",
    "st.title('Cherry Leaf Mildew Detection')\n",
    "\n",
    "# Sidebar menu\n",
    "st.sidebar.title('Navigation')\n",
    "options = st.sidebar.radio('Go to:', ['Home', 'Hypotheses'])\n",
    "\n",
    "# Home Section\n",
    "if options == 'Home':\n",
    "    st.write('Upload an image of a cherry leaf to detect if it is healthy or has powdery mildew.')\n",
    "\n",
    "    # Image upload section\n",
    "    uploaded_file = st.file_uploader(\"Choose an image...\", type=[\"jpg\", \"png\", \"jpeg\"])\n",
    "    if uploaded_file is not None:\n",
    "        image = Image.open(uploaded_file)\n",
    "        st.image(image, caption='Uploaded Image', use_column_width=True)\n",
    "        st.write(\"\")\n",
    "        st.write(\"Classifying...\")\n",
    "\n",
    "        # Predict and display the result\n",
    "        label = predict(image)\n",
    "        st.write(f'The uploaded cherry leaf is: **{label}**')\n",
    "\n",
    "# Hypotheses Section\n",
    "elif options == 'Hypotheses':\n",
    "    st.header('Hypotheses')\n",
    "    st.write(\"\"\"\n",
    "    In this section, we outline the key hypotheses related to the detection of powdery mildew on cherry leaves:\n",
    "\n",
    "    1. **Image Quality**: High-quality images with clear visibility of the leaf surface will yield more accurate predictions.\n",
    "    2. **Leaf Texture and Color**: The model distinguishes between healthy leaves and those affected by mildew based on texture and color differences.\n",
    "    3. **Lighting Conditions**: Images taken under uniform lighting conditions improve the model's ability to correctly classify the health status of the leaf.\n",
    "    4. **Environmental Factors**: The appearance of powdery mildew might vary under different environmental conditions, affecting the model's accuracy.\n",
    "\n",
    "    These hypotheses guide our approach in both data collection and model training to improve the detection accuracy.\n",
    "    \"\"\")\n",
    "\n",
    "\n"
   ]
  },
  {
   "cell_type": "code",
   "execution_count": 2,
   "id": "b1998fe6-4bc5-4a75-96eb-b580e683e190",
   "metadata": {},
   "outputs": [
    {
     "ename": "SyntaxError",
     "evalue": "invalid decimal literal (2461406071.py, line 3)",
     "output_type": "error",
     "traceback": [
      "\u001b[0;36m  Cell \u001b[0;32mIn[2], line 3\u001b[0;36m\u001b[0m\n\u001b[0;31m    The dataset used for training the model consisted of images of cherry leaves sourced from [describe your data source]. Each image was preprocessed by resizing it to 128x128 pixels and normalizing pixel values to the range [0, 1]. The dataset was split into training and validation sets to assess model performance.\u001b[0m\n\u001b[0m                                                                                                                                                                           ^\u001b[0m\n\u001b[0;31mSyntaxError\u001b[0m\u001b[0;31m:\u001b[0m invalid decimal literal\n"
     ]
    }
   ],
   "source": [
    "### Data Collection\n",
    "\n",
    "The dataset used for training the model consisted of images of cherry leaves sourced from [describe your data source]. Each image was preprocessed by resizing it to 128x128 pixels and normalizing pixel values to the range [0, 1]. The dataset was split into training and validation sets to assess model performance.\n",
    "\n",
    "The images were categorized into two classes:\n",
    "- Healthy: Cherry leaves without any signs of powdery mildew.\n",
    "- Powdery Mildew: Cherry leaves showing visible symptoms of powdery mildew infection.\n",
    "\n",
    "The following preprocessing steps were applied to the images:\n",
    "- Resize each image to 128x128 pixels to match the input size required by the model.\n",
    "- Normalize pixel values to ensure consistency across images.\n",
    "\n",
    "The distribution of the dataset is as follows:\n",
    "- Total number of images: [total number]\n",
    "- Number of Healthy leaves: [number]\n",
    "- Number of Powdery Mildew affected leaves: [number]\n"
   ]
  },
  {
   "cell_type": "code",
   "execution_count": 3,
   "id": "e20a97e6-b2e3-460c-8703-b4c330a276f2",
   "metadata": {},
   "outputs": [
    {
     "ename": "ModuleNotFoundError",
     "evalue": "No module named 'matplotlib'",
     "output_type": "error",
     "traceback": [
      "\u001b[0;31m---------------------------------------------------------------------------\u001b[0m",
      "\u001b[0;31mModuleNotFoundError\u001b[0m                       Traceback (most recent call last)",
      "Cell \u001b[0;32mIn[3], line 3\u001b[0m\n\u001b[1;32m      1\u001b[0m \u001b[38;5;66;03m### Data Visualization\u001b[39;00m\n\u001b[0;32m----> 3\u001b[0m \u001b[38;5;28;01mimport\u001b[39;00m \u001b[38;5;21;01mmatplotlib\u001b[39;00m\u001b[38;5;21;01m.\u001b[39;00m\u001b[38;5;21;01mpyplot\u001b[39;00m \u001b[38;5;28;01mas\u001b[39;00m \u001b[38;5;21;01mplt\u001b[39;00m\n\u001b[1;32m      4\u001b[0m \u001b[38;5;28;01mimport\u001b[39;00m \u001b[38;5;21;01mseaborn\u001b[39;00m \u001b[38;5;28;01mas\u001b[39;00m \u001b[38;5;21;01msns\u001b[39;00m\n\u001b[1;32m      6\u001b[0m \u001b[38;5;66;03m# Example data distribution (replace with actual data if available)\u001b[39;00m\n",
      "\u001b[0;31mModuleNotFoundError\u001b[0m: No module named 'matplotlib'"
     ]
    }
   ],
   "source": [
    "### Data Visualization\n",
    "\n",
    "import matplotlib.pyplot as plt\n",
    "import seaborn as sns\n",
    "\n",
    "# Example data distribution (replace with actual data if available)\n",
    "labels = ['Healthy', 'Powdery Mildew']\n",
    "counts = [1000, 500]  # Replace with actual counts\n",
    "plt.figure(figsize=(8, 5))\n",
    "sns.barplot(x=labels, y=counts)\n",
    "plt.title('Distribution of Cherry Leaf Images')\n",
    "plt.xlabel('Class')\n",
    "plt.ylabel('Count')\n",
    "plt.show()\n"
   ]
  },
  {
   "cell_type": "code",
   "execution_count": null,
   "id": "f573652b-0399-48bb-9337-b6a687171989",
   "metadata": {},
   "outputs": [],
   "source": []
  }
 ],
 "metadata": {
  "kernelspec": {
   "display_name": "Python 3 (ipykernel)",
   "language": "python",
   "name": "python3"
  },
  "language_info": {
   "codemirror_mode": {
    "name": "ipython",
    "version": 3
   },
   "file_extension": ".py",
   "mimetype": "text/x-python",
   "name": "python",
   "nbconvert_exporter": "python",
   "pygments_lexer": "ipython3",
   "version": "3.12.3"
  }
 },
 "nbformat": 4,
 "nbformat_minor": 5
}
